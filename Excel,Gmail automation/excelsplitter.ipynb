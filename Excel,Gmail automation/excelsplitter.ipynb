{
 "cells": [
  {
   "cell_type": "code",
   "execution_count": 51,
   "metadata": {},
   "outputs": [
    {
     "data": {
      "text/plain": [
       "[50, 100, 150, 200, 250, 300, 350, 400, 450, 500, 550, 600, 650]"
      ]
     },
     "execution_count": 51,
     "metadata": {},
     "output_type": "execute_result"
    }
   ],
   "source": [
    "df = pd.read_excel(\"Vaccination drive by GSB Sabha udupi.xlsx\")\n",
    "len(df)\n",
    "c=50\n",
    "y=0\n",
    "a=[]\n",
    "i=0\n",
    "while (i<650):\n",
    "    i=i+1\n",
    "    if(i%50==0):\n",
    "        a.append(i)\n",
    "a"
   ]
  },
  {
   "cell_type": "code",
   "execution_count": 52,
   "metadata": {},
   "outputs": [
    {
     "name": "stdout",
     "output_type": "stream",
     "text": [
      "0\n",
      "50\n",
      "50\n",
      "100\n",
      "100\n",
      "150\n",
      "150\n",
      "200\n",
      "200\n",
      "250\n",
      "250\n",
      "300\n",
      "300\n",
      "350\n",
      "350\n",
      "400\n",
      "400\n",
      "450\n",
      "450\n",
      "500\n",
      "500\n",
      "550\n",
      "550\n",
      "600\n",
      "600\n",
      "650\n"
     ]
    }
   ],
   "source": [
    "#a=np.arange(1,5)\n",
    "f=pd.DataFrame(df)\n",
    "for i in a:\n",
    "    y=i-50\n",
    "    print(y)\n",
    "    print(i)\n",
    "    x = f.loc[(y):(i),:]\n",
    "    x.to_excel('file_{:02d}.xlsx'.format(i),index=True)"
   ]
  },
  {
   "cell_type": "code",
   "execution_count": null,
   "metadata": {},
   "outputs": [],
   "source": []
  }
 ],
 "metadata": {
  "kernelspec": {
   "display_name": "Python 3",
   "language": "python",
   "name": "python3"
  },
  "language_info": {
   "codemirror_mode": {
    "name": "ipython",
    "version": 3
   },
   "file_extension": ".py",
   "mimetype": "text/x-python",
   "name": "python",
   "nbconvert_exporter": "python",
   "pygments_lexer": "ipython3",
   "version": "3.8.5"
  }
 },
 "nbformat": 4,
 "nbformat_minor": 4
}
