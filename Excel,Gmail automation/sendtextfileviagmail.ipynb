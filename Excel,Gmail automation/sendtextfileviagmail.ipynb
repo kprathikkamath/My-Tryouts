{
 "cells": [
  {
   "cell_type": "code",
   "execution_count": 12,
   "metadata": {},
   "outputs": [
    {
     "data": {
      "text/plain": [
       "{}"
      ]
     },
     "execution_count": 12,
     "metadata": {},
     "output_type": "execute_result"
    }
   ],
   "source": [
    "################FOR SENDING SINGLE MAIL###################### \n",
    "import smtplib\n",
    "server = smtplib.SMTP_SSL('smtp.gmail.com',465)\n",
    "server.login('gsbsabhaudupi@gmail.com','gsbsabha@2021')\n",
    "server.sendmail('gsbsabhaudupi@gmail.com','patrickamath.pk13@gmail.com','Dear Sir / Madam,Your request for vaccination is confirmed with the slot coassport for those travelling abroad Please be present 15 mins prior to your slot timing.Person in charge -Mr Shreesha Shenoy  - 6362020760.venue is south school udupi come prior to ypur slot')  \n",
    "    \n",
    " #   except:"
   ]
  },
  {
   "cell_type": "code",
   "execution_count": 22,
   "metadata": {},
   "outputs": [
    {
     "data": {
      "text/plain": [
       "{}"
      ]
     },
     "execution_count": 22,
     "metadata": {},
     "output_type": "execute_result"
    }
   ],
   "source": [
    "################FOR SENDING .TXT FILES AS ATTACHMENTS##########\n",
    "import smtplib\n",
    "from email.message import EmailMessage\n",
    "\n",
    "msg = EmailMessage()\n",
    "msg[\"From\"] = 'gsbsabhaudupi@gmail.com'\n",
    "msg[\"Subject\"] = \"COVISHIELD VACCINATION CONFIRMATION\"\n",
    "msg[\"To\"] = 'hshreeshashenoy@gmail.com'\n",
    "msg.set_content(\"The details for the vaccination is attached below\")\n",
    "msg.add_attachment(open('1.txt', \"r\").read(), filename=\"1.txt\")\n",
    "\n",
    "s = smtplib.SMTP_SSL('smtp.gmail.com',465)\n",
    "s.login('gsbsabhaudupi@gmail.com', 'gsbsabha@2021')\n",
    "s.send_message(msg)"
   ]
  },
  {
   "cell_type": "code",
   "execution_count": 24,
   "metadata": {},
   "outputs": [],
   "source": [
    "###############FOR SENDING GROUP MAILS WHICH ARE LISTED OUT IN AN EXCEL##############\n",
    "import smtplib\n",
    "from email.message import EmailMessage\n",
    "import smtplib\n",
    "import pandas as pd\n",
    "a=pd.read_excel('Book1.xlsx')\n",
    "v=a['Enter Gmail ID for slot updates']\n",
    "for i in v:\n",
    "    msg = EmailMessage()\n",
    "    msg[\"From\"] = 'gsbsabhaudupi@gmail.com'\n",
    "    msg[\"Subject\"] = \"COVISHIELD VACCINATION CONFIRMATION\"\n",
    "    msg[\"To\"] = i\n",
    "    msg.set_content(\"The details for the vaccination is attached below\")\n",
    "    msg.add_attachment(open('1.txt', \"r\").read(), filename = \"1.txt\")\n",
    "    s = smtplib.SMTP_SSL('smtp.gmail.com',465)\n",
    "    s.login('gsbsabhaudupi@gmail.com', 'gsbsabha@2021')\n",
    "    s.send_message(msg)\n",
    "    "
   ]
  }
 ],
 "metadata": {
  "kernelspec": {
   "display_name": "Python 3",
   "language": "python",
   "name": "python3"
  },
  "language_info": {
   "codemirror_mode": {
    "name": "ipython",
    "version": 3
   },
   "file_extension": ".py",
   "mimetype": "text/x-python",
   "name": "python",
   "nbconvert_exporter": "python",
   "pygments_lexer": "ipython3",
   "version": "3.8.5"
  }
 },
 "nbformat": 4,
 "nbformat_minor": 4
}
