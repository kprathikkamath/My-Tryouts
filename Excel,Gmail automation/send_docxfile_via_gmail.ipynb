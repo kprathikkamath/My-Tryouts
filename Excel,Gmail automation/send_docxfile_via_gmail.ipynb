{
 "cells": [
  {
   "cell_type": "code",
   "execution_count": 3,
   "metadata": {},
   "outputs": [
    {
     "name": "stdout",
     "output_type": "stream",
     "text": [
      "Email sent successfully\n"
     ]
    }
   ],
   "source": [
    "import smtplib \n",
    "\n",
    "from email.mime.base import MIMEBase \n",
    "from email.mime.multipart import MIMEMultipart \n",
    "from email.mime.text import MIMEText\n",
    "from email import encoders\n",
    "\n",
    "\n",
    "fromaddr = 'gsbsabhaudupi@gmail.com'\n",
    "toaddr = 'paienterprises201302@gmail.com'\n",
    "\n",
    "\n",
    "msg = MIMEMultipart()\n",
    "\n",
    "\n",
    "msg['From'] = fromaddr\n",
    "\n",
    "msg['To'] = toaddr\n",
    "\n",
    "msg['Subject'] = 'VACCINATION CONFIRMATION'\n",
    "\n",
    "\n",
    "body = 'Your slot details for vaccination is attached below'\n",
    "\n",
    "msg.attach(MIMEText(body))\n",
    "\n",
    "\n",
    "files = ['1.docx']\n",
    "\n",
    "\n",
    "for filename in files:\n",
    "\n",
    "    attachment = open(filename, 'rb')\n",
    "\n",
    "    part = MIMEBase(\"application\", \"octet-stream\")\n",
    "\n",
    "    part.set_payload(attachment.read())\n",
    "\n",
    "    encoders.encode_base64(part)\n",
    "\n",
    "    part.add_header(\"Content-Disposition\",\n",
    "    f\"attachment; filename= {filename}\")\n",
    "\n",
    "    msg.attach(part)\n",
    "\n",
    "msg = msg.as_string()\n",
    "\n",
    "\n",
    "try:\n",
    "    server = smtplib.SMTP('smtp.gmail.com:587')\n",
    "    server.ehlo()\n",
    "    server.starttls()\n",
    "    server.login(fromaddr, 'gsbsabha@2021')\n",
    "    server.sendmail(fromaddr, toaddr, msg)\n",
    "    server.quit()\n",
    "    print('Email sent successfully')\n",
    "except:\n",
    "    print(\"Email couldn't be sent\")"
   ]
  },
  {
   "cell_type": "code",
   "execution_count": 5,
   "metadata": {},
   "outputs": [
    {
     "name": "stdout",
     "output_type": "stream",
     "text": [
      "Email sent successfully to ajith.pai.b07@gmail.com\n",
      "Email sent successfully to patrickamath.pk13@gmail.com\n",
      "Email sent successfully to srinivaskamath002@gmail.com\n",
      "Email sent successfully to hshreeshashenoy@gmail.com\n",
      "Email sent successfully to souzamilee97@gmail.com\n"
     ]
    }
   ],
   "source": [
    "import smtplib \n",
    "from email.mime.base import MIMEBase \n",
    "from email.mime.multipart import MIMEMultipart \n",
    "from email.mime.text import MIMEText\n",
    "from email import encoders\n",
    "import pandas as pd\n",
    "\n",
    "a=pd.read_excel('Book1.xlsx')\n",
    "v=a['Enter Gmail ID for slot updates']\n",
    "\n",
    "for i in v:\n",
    "    fromaddr = 'gsbsabhaudupi@gmail.com'\n",
    "    toaddr = i\n",
    "    msg = MIMEMultipart()\n",
    "    msg['From'] = fromaddr\n",
    "    msg['To'] = toaddr\n",
    "    msg['Subject'] = 'VACCINATION CONFIRMATION'\n",
    "    body = 'Your slot details for vaccination is attached below'\n",
    "    msg.attach(MIMEText(body))\n",
    "    files = ['1.docx']\n",
    "    for filename in files:\n",
    "        attachment = open(filename, 'rb')\n",
    "        part = MIMEBase(\"application\", \"octet-stream\")\n",
    "        part.set_payload(attachment.read())\n",
    "        encoders.encode_base64(part)\n",
    "        part.add_header(\"Content-Disposition\",\n",
    "        f\"attachment; filename= {filename}\")\n",
    "        msg.attach(part)\n",
    "    msg = msg.as_string()\n",
    "    try:\n",
    "        server = smtplib.SMTP('smtp.gmail.com:587')\n",
    "        server.ehlo()\n",
    "        server.starttls()\n",
    "        server.login(fromaddr, 'gsbsabha@2021')\n",
    "        server.sendmail(fromaddr, toaddr, msg)\n",
    "        server.quit()\n",
    "        print('Email sent successfully to %s'%i)\n",
    "    except:\n",
    "        print(\"Email couldn't be sent to %s\"%i)\n",
    "        del(i)\n"
   ]
  },
  {
   "cell_type": "code",
   "execution_count": null,
   "metadata": {},
   "outputs": [],
   "source": []
  }
 ],
 "metadata": {
  "kernelspec": {
   "display_name": "Python 3",
   "language": "python",
   "name": "python3"
  },
  "language_info": {
   "codemirror_mode": {
    "name": "ipython",
    "version": 3
   },
   "file_extension": ".py",
   "mimetype": "text/x-python",
   "name": "python",
   "nbconvert_exporter": "python",
   "pygments_lexer": "ipython3",
   "version": "3.8.5"
  }
 },
 "nbformat": 4,
 "nbformat_minor": 4
}
