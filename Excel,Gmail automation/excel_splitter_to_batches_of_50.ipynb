{
 "cells": [
  {
   "cell_type": "code",
   "execution_count": null,
   "metadata": {},
   "outputs": [],
   "source": [
    "df = pd.read_excel(\"Vaccination drive by GSB Sabha udupi.xlsx\")\n",
    "len(df)\n",
    "c=50\n",
    "y=0\n",
    "a=[]\n",
    "i=0\n",
    "while (i<650):\n",
    "    i=i+1\n",
    "    if(i%50==0):\n",
    "        a.append(i)\n",
    "f=pd.DataFrame(df)\n",
    "for i in a:\n",
    "    y=i-50\n",
    "    print(y)\n",
    "    print(i)\n",
    "    x = f.loc[(y):(i),:]\n",
    "    x.to_excel('file_{:02d}.xlsx'.format(i),index=True)"
   ]
  }
 ],
 "metadata": {
  "kernelspec": {
   "display_name": "Python 3",
   "language": "python",
   "name": "python3"
  },
  "language_info": {
   "codemirror_mode": {
    "name": "ipython",
    "version": 3
   },
   "file_extension": ".py",
   "mimetype": "text/x-python",
   "name": "python",
   "nbconvert_exporter": "python",
   "pygments_lexer": "ipython3",
   "version": "3.8.5"
  }
 },
 "nbformat": 4,
 "nbformat_minor": 4
}
